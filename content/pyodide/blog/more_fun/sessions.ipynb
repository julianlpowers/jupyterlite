{
 "cells": [
  {
   "cell_type": "code",
   "execution_count": null,
   "id": "a3fb1fc5",
   "metadata": {},
   "outputs": [],
   "source": [
    "%pip install dill\n",
    "import dill\n",
    "\n",
    "def save_session(filename):\n",
    "    ns_now = get_ipython().user_ns.copy()\n",
    "    ns_clean ={\n",
    "        name: obj\n",
    "        for name, obj in ns_now.items()\n",
    "        if dill.pickles(obj)\n",
    "    }\n",
    "\n",
    "    dill.dump(ns_clean, open(filename, 'wb'))\n",
    "\n",
    "def load_session(filename):\n",
    "    ns = dill.load(open(filename, 'rb'))\n",
    "    get_ipython().user_ns.update(ns)"
   ]
  }
 ],
 "metadata": {
  "language_info": {
   "name": "python"
  }
 },
 "nbformat": 4,
 "nbformat_minor": 5
}
