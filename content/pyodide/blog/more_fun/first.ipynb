{
 "cells": [
  {
   "cell_type": "code",
   "execution_count": null,
   "id": "f5e6d4ce",
   "metadata": {},
   "outputs": [
    {
     "name": "stdout",
     "output_type": "stream",
     "text": [
      "Note: you may need to restart the kernel to use updated packages.\n"
     ]
    },
    {
     "name": "stderr",
     "output_type": "stream",
     "text": [
      "\n",
      "[notice] A new release of pip is available: 25.1.1 -> 25.2\n",
      "[notice] To update, run: python.exe -m pip install --upgrade pip\n",
      "ERROR: Invalid requirement: '#': Expected package name at the start of dependency specifier\n",
      "    #\n",
      "    ^\n"
     ]
    }
   ],
   "source": [
    "# run once\n",
    "%pip install import-ipynb; "
   ]
  },
  {
   "cell_type": "code",
   "execution_count": null,
   "id": "17db4a93",
   "metadata": {},
   "outputs": [],
   "source": [
    "\n",
    "import sessions\n",
    "\n",
    "import math\n",
    "\n",
    "x = 16\n",
    "\n",
    "def f(y):\n",
    "    return math.sqrt(y)\n",
    "\n",
    "class Foo:\n",
    "    def __init__(self, a):\n",
    "        self.a = a\n",
    "\n",
    "foo = Foo(10)\n",
    "\n",
    "sessions.save_session('session.pkl')\n",
    "\n"
   ]
  }
 ],
 "metadata": {
  "kernelspec": {
   "display_name": "Python 3",
   "language": "python",
   "name": "python3"
  },
  "language_info": {
   "codemirror_mode": {
    "name": "ipython",
    "version": 3
   },
   "file_extension": ".py",
   "mimetype": "text/x-python",
   "name": "python",
   "nbconvert_exporter": "python",
   "pygments_lexer": "ipython3",
   "version": "3.13.5"
  }
 },
 "nbformat": 4,
 "nbformat_minor": 5
}
