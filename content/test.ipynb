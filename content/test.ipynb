{
 "cells": [
  {
   "cell_type": "markdown",
   "id": "fb808862",
   "metadata": {},
   "source": [
    "Test notebook"
   ]
  },
  {
   "cell_type": "code",
   "execution_count": null,
   "id": "354e82f3",
   "metadata": {},
   "outputs": [],
   "source": [
    "a = 3\n",
    "b = 5\n",
    "print(a + b)\n",
    "print(\"Hello, World!\")"
   ]
  }
 ],
 "metadata": {
  "kernelspec": {
   "display_name": "Python 3",
   "language": "python",
   "name": "python3"
  },
  "language_info": {
   "name": "python",
   "version": "3.13.5"
  }
 },
 "nbformat": 4,
 "nbformat_minor": 5
}
